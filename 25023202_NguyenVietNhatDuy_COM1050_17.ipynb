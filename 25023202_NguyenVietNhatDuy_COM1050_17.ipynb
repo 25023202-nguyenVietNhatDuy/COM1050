{
 "cells": [
  {
   "cell_type": "markdown",
   "id": "39f1c00e",
   "metadata": {},
   "source": [
    "W3A2\n"
   ]
  },
  {
   "cell_type": "code",
   "execution_count": null,
   "id": "2f506e03",
   "metadata": {},
   "outputs": [
    {
     "name": "stdout",
     "output_type": "stream",
     "text": [
      "Trước khi hoán đổi - a = 3, b = 5\n",
      "Sau khi hoán đổi - a = 5, b = 3\n"
     ]
    }
   ],
   "source": [
    "a,b = map(float, input(\"Nhập 2 số a và b: \").split())\n",
    "print(f\"Trước khi hoán đổi - a = {a}, b = {b}\")\n",
    "a = a ^ b\n",
    "b = a ^ b\n",
    "a = a ^ b\n",
    "print(f\"Sau khi hoán đổi - a = {a}, b = {b}\")"
   ]
  },
  {
   "cell_type": "markdown",
   "id": "6176dfc3",
   "metadata": {},
   "source": [
    "W3A3"
   ]
  },
  {
   "cell_type": "code",
   "execution_count": 4,
   "id": "0d796003",
   "metadata": {},
   "outputs": [
    {
     "name": "stdout",
     "output_type": "stream",
     "text": [
      "7 không là lũy thừa của 2\n"
     ]
    }
   ],
   "source": [
    "a = int(input(\"Nhập số cần kiểm tra: \"))\n",
    "if a > 0 and (a & (a-1)) == 0:\n",
    "    print(f\"{a} là lũy thừa của 2\")\n",
    "else:\n",
    "    print(f\"{a} không là lũy thừa của 2\")"
   ]
  },
  {
   "cell_type": "markdown",
   "id": "393da46c",
   "metadata": {},
   "source": [
    "W3A4"
   ]
  },
  {
   "cell_type": "code",
   "execution_count": null,
   "id": "571aad13",
   "metadata": {},
   "outputs": [
    {
     "name": "stdout",
     "output_type": "stream",
     "text": [
      "1\n"
     ]
    }
   ],
   "source": [
    "import math\n",
    "m, n = map(float, input(\"Nhập 2 số m n: \").split())\n",
    "t=m/n\n",
    "print(math.floor(t))"
   ]
  },
  {
   "cell_type": "markdown",
   "id": "7492e6a0",
   "metadata": {},
   "source": [
    "W3A5"
   ]
  },
  {
   "cell_type": "code",
   "execution_count": null,
   "id": "23c220c4",
   "metadata": {},
   "outputs": [
    {
     "name": "stdout",
     "output_type": "stream",
     "text": [
      "2\n"
     ]
    }
   ],
   "source": [
    "import math\n",
    "m, n = map(float, input(\"Nhập 2 số m n: \").split())\n",
    "t=m/n\n",
    "print(math.ceil(t))"
   ]
  },
  {
   "cell_type": "markdown",
   "id": "060fbf07",
   "metadata": {},
   "source": [
    "W3A6"
   ]
  },
  {
   "cell_type": "code",
   "execution_count": 12,
   "id": "c155f23b",
   "metadata": {},
   "outputs": [
    {
     "name": "stdout",
     "output_type": "stream",
     "text": [
      "Even\n"
     ]
    }
   ],
   "source": [
    "x = int(input(\"Nhập số cần kiểm tra: \"))\n",
    "if x % 2 == 0:\n",
    "    print(\"Even\")\n",
    "else:\n",
    "    print(\"Odd\")"
   ]
  },
  {
   "cell_type": "markdown",
   "id": "d3583374",
   "metadata": {},
   "source": [
    "W3A7"
   ]
  },
  {
   "cell_type": "code",
   "execution_count": 13,
   "id": "bc4301cc",
   "metadata": {},
   "outputs": [
    {
     "name": "stdout",
     "output_type": "stream",
     "text": [
      "Yes\n"
     ]
    }
   ],
   "source": [
    "a, b = map(float, input(\"Nhập 2 số a b: \").split())\n",
    "if a < 0 and b < 0:\n",
    "    print(\"Yes\")\n",
    "else:\n",
    "    print(\"No\")"
   ]
  },
  {
   "cell_type": "markdown",
   "id": "d76f6f1e",
   "metadata": {},
   "source": [
    "W3A8"
   ]
  },
  {
   "cell_type": "code",
   "execution_count": 14,
   "id": "23605483",
   "metadata": {},
   "outputs": [
    {
     "name": "stdout",
     "output_type": "stream",
     "text": [
      "True\n"
     ]
    }
   ],
   "source": [
    "a = input(\"Nhập chuỗi a: \").strip()\n",
    "b = input(\"Nhập chuỗi b: \").strip()\n",
    "if len(a) > len(b):\n",
    "    print(\"True\")\n",
    "else:\n",
    "    print(\"False\")"
   ]
  },
  {
   "cell_type": "markdown",
   "id": "6f27048c",
   "metadata": {},
   "source": [
    "W3A9"
   ]
  },
  {
   "cell_type": "code",
   "execution_count": 16,
   "id": "924811a7",
   "metadata": {},
   "outputs": [
    {
     "name": "stdout",
     "output_type": "stream",
     "text": [
      "Yes\n"
     ]
    }
   ],
   "source": [
    "a, b, c = map(int, input(\"Nhập 3 số nguyên dương: \").split())\n",
    "if a + b > c and a + c > b and b + c > a:\n",
    "    print(\"Yes\")\n",
    "else:\n",
    "    print(\"No\")"
   ]
  },
  {
   "cell_type": "markdown",
   "id": "cdeacbc1",
   "metadata": {},
   "source": [
    "W3A10"
   ]
  },
  {
   "cell_type": "code",
   "execution_count": 18,
   "id": "17ea55a4",
   "metadata": {},
   "outputs": [
    {
     "name": "stdout",
     "output_type": "stream",
     "text": [
      "4\n"
     ]
    }
   ],
   "source": [
    "numbers = list(map(int, input(\"Nhập 4 số nguyên: \").split()))\n",
    "print(max(numbers))\n"
   ]
  },
  {
   "cell_type": "markdown",
   "id": "dfea53e4",
   "metadata": {},
   "source": [
    "W3A11"
   ]
  },
  {
   "cell_type": "code",
   "execution_count": 19,
   "id": "68f9ce74",
   "metadata": {},
   "outputs": [
    {
     "name": "stdout",
     "output_type": "stream",
     "text": [
      "Tam giác đều\n"
     ]
    }
   ],
   "source": [
    "a, b, c = map(int, input(\"Nhập 3 số nguyên dương: \").split())\n",
    "if a + b > c and a + c > b and b + c > a:\n",
    "    if a == b == c:\n",
    "        print(\"Tam giác đều\")\n",
    "    elif a == b or a == c or b == c:\n",
    "        print(\"Tam giác cân\")\n",
    "    else:\n",
    "        print(\"Tam giác thường\")\n",
    "else:\n",
    "    print(\"Không phải tam giác\")"
   ]
  },
  {
   "cell_type": "markdown",
   "id": "f031afd9",
   "metadata": {},
   "source": [
    "W3A12"
   ]
  },
  {
   "cell_type": "code",
   "execution_count": 20,
   "id": "fc32a2e5",
   "metadata": {},
   "outputs": [
    {
     "name": "stdout",
     "output_type": "stream",
     "text": [
      "No\n"
     ]
    }
   ],
   "source": [
    "x = int(input(\"Nhập năm cần kiểm tra: \"))\n",
    "if x % 400 == 0 or (x % 4 == 0 and x % 100 != 0):\n",
    "    print(\"Yes\")\n",
    "else:\n",
    "    print(\"No\")"
   ]
  },
  {
   "cell_type": "markdown",
   "id": "10b5656d",
   "metadata": {},
   "source": [
    "W3A14"
   ]
  },
  {
   "cell_type": "code",
   "execution_count": 22,
   "id": "3cae0b37",
   "metadata": {},
   "outputs": [
    {
     "name": "stdout",
     "output_type": "stream",
     "text": [
      "Phương trình vô số nghiệm\n"
     ]
    }
   ],
   "source": [
    "a, b = map(float, input(\"Nhập 2 số thực: \").split())\n",
    "if a != 0:\n",
    "    print(f\"Nghiệm của phương trình là x = {round(b/a, 2)}\")\n",
    "elif a == 0 and b != 0:\n",
    "    print(\"Phương trình vô nghiệm\")\n",
    "else:\n",
    "    print(\"Phương trình vô số nghiệm\")"
   ]
  },
  {
   "cell_type": "markdown",
   "id": "aabe2d94",
   "metadata": {},
   "source": [
    "W3A15"
   ]
  },
  {
   "cell_type": "code",
   "execution_count": 26,
   "id": "58d5650b",
   "metadata": {},
   "outputs": [
    {
     "name": "stdout",
     "output_type": "stream",
     "text": [
      "Yếu\n"
     ]
    }
   ],
   "source": [
    "x = float(input(\"Nhập điểm trung bình: \"))\n",
    "if x >= 8:\n",
    "    print(\"Giỏi\")\n",
    "elif x >= 6.5:\n",
    "    print(\"Khá\")\n",
    "elif x >= 5:\n",
    "    print(\"Trung bình\")\n",
    "else:\n",
    "    print(\"Yếu\")"
   ]
  },
  {
   "cell_type": "markdown",
   "id": "9dea455a",
   "metadata": {},
   "source": [
    "W3A16"
   ]
  },
  {
   "cell_type": "code",
   "execution_count": 31,
   "id": "858100dc",
   "metadata": {},
   "outputs": [
    {
     "name": "stdout",
     "output_type": "stream",
     "text": [
      "7 8 8\n"
     ]
    }
   ],
   "source": [
    "x = float(input(\"Nhập số thực: \"))\n",
    "floor_x = int(x)\n",
    "if x < 0 and x != floor_x:\n",
    "    floor_x -= 1\n",
    "\n",
    "ceil_x = int(x)\n",
    "if x > 0 and x != ceil_x:\n",
    "    ceil_x += 1\n",
    "\n",
    "round_x = int(x)\n",
    "if x-int(x) >= 0.5:\n",
    "    round_x += 1\n",
    "else:\n",
    "    round_x -= 1\n",
    "\n",
    "print(f\"{floor_x} {ceil_x} {round_x}\")"
   ]
  },
  {
   "cell_type": "markdown",
   "id": "0bbe1306",
   "metadata": {},
   "source": [
    "W3A17"
   ]
  },
  {
   "cell_type": "code",
   "execution_count": 32,
   "id": "4156c96a",
   "metadata": {},
   "outputs": [
    {
     "name": "stdout",
     "output_type": "stream",
     "text": [
      "Đây là một dãy cấp số nhân\n"
     ]
    }
   ],
   "source": [
    "a, b, c, d = map(float, input(\"Nhập 4 số: \").split())\n",
    "if b % a == 0:\n",
    "    cong_boi = b/a\n",
    "    if b * cong_boi == c and c * cong_boi == d:\n",
    "        print(\"Đây là một dãy cấp số nhân\")\n",
    "    else:\n",
    "        print(\"Đây không phải một cấp số nhân\")\n",
    "else:\n",
    "    print(\"Đây không phải một cấp số nhân\")"
   ]
  }
 ],
 "metadata": {
  "kernelspec": {
   "display_name": "Python 3",
   "language": "python",
   "name": "python3"
  },
  "language_info": {
   "codemirror_mode": {
    "name": "ipython",
    "version": 3
   },
   "file_extension": ".py",
   "mimetype": "text/x-python",
   "name": "python",
   "nbconvert_exporter": "python",
   "pygments_lexer": "ipython3",
   "version": "3.13.7"
  }
 },
 "nbformat": 4,
 "nbformat_minor": 5
}
