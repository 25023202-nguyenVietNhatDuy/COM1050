{
 "cells": [
  {
   "cell_type": "code",
   "execution_count": 3,
   "id": "facc4c47",
   "metadata": {},
   "outputs": [
    {
     "name": "stdout",
     "output_type": "stream",
     "text": [
      "Học lực kém\n"
     ]
    }
   ],
   "source": [
    "a=float(input())\n",
    "b=float(input())\n",
    "c=float(input())\n",
    "d=float(input())\n",
    "avg=(a+b+c+d)/4\n",
    "if a<4.0 or b<4.0 or c<4.0 or d<4.0:\n",
    "        print(\"Học lực kém\")\n",
    "elif avg>=9:\n",
    "        print(\"Xuất sắc\")\n",
    "elif 8.5<=avg<9:\n",
    "        print(\"Giỏi\")\n",
    "elif 7.0<=avg<8.5:\n",
    "        print(\"Khá\")\n",
    "elif 5.5<=avg<7.0:\n",
    "        print(\"Trung bình\")\n",
    "else:\n",
    "        print(\"Yếu\")"
   ]
  },
  {
   "cell_type": "code",
   "execution_count": 3,
   "id": "1b7bbe15",
   "metadata": {},
   "outputs": [
    {
     "name": "stdout",
     "output_type": "stream",
     "text": [
      "Thừa cân\n"
     ]
    }
   ],
   "source": [
    "height=float(input(\"Chiều cao: \"))\n",
    "weight=float(input(\"Cân nặng: \"))\n",
    "BMI=weight/height**2\n",
    "if BMI<18.5:\n",
    "    print(\"Thiếu cân\")\n",
    "elif 18.5<=BMI<25:\n",
    "    print(\"Bình thường\")\n",
    "elif 25<=BMI<30:\n",
    "    print(\"Thừa cân\")\n",
    "else:\n",
    "    print(\"Béo phì\")"
   ]
  }
 ],
 "metadata": {
  "kernelspec": {
   "display_name": "Python 3",
   "language": "python",
   "name": "python3"
  },
  "language_info": {
   "codemirror_mode": {
    "name": "ipython",
    "version": 3
   },
   "file_extension": ".py",
   "mimetype": "text/x-python",
   "name": "python",
   "nbconvert_exporter": "python",
   "pygments_lexer": "ipython3",
   "version": "3.13.7"
  }
 },
 "nbformat": 4,
 "nbformat_minor": 5
}
