{
 "cells": [
  {
   "cell_type": "markdown",
   "metadata": {
    "id": "_dzNnK6NpPIT"
   },
   "source": [
    "W2A2"
   ]
  },
  {
   "cell_type": "code",
   "execution_count": null,
   "metadata": {
    "colab": {
     "base_uri": "https://localhost:8080/"
    },
    "executionInfo": {
     "elapsed": 2870,
     "status": "ok",
     "timestamp": 1758011573882,
     "user": {
      "displayName": "25023202 Nguyễn Viết Nhất Duy",
      "userId": "00127381280906010194"
     },
     "user_tz": -420
    },
    "id": "6XrPJUHIpU0I",
    "outputId": "5c88e8cf-7b6a-4573-94f3-355885053c86"
   },
   "outputs": [],
   "source": [
    "user_name=input(\"Hi, What is your name? \")\n",
    "print(f\"Hello {user_name}\")"
   ]
  },
  {
   "cell_type": "markdown",
   "metadata": {
    "id": "Ay-Yh6AJpWPz"
   },
   "source": [
    "W2A10"
   ]
  },
  {
   "cell_type": "code",
   "execution_count": null,
   "metadata": {
    "colab": {
     "base_uri": "https://localhost:8080/"
    },
    "executionInfo": {
     "elapsed": 7158,
     "status": "ok",
     "timestamp": 1758011606020,
     "user": {
      "displayName": "25023202 Nguyễn Viết Nhất Duy",
      "userId": "00127381280906010194"
     },
     "user_tz": -420
    },
    "id": "s94Y56bxpYjH",
    "outputId": "ac1ec127-38fb-43f6-81f4-0eb5bd37f1fa"
   },
   "outputs": [],
   "source": [
    "a,b,c=input(\"Friend name: \").split()\n",
    "print(f\"hi {c}, {b} and {a}\" )"
   ]
  },
  {
   "cell_type": "markdown",
   "metadata": {
    "id": "Qx8r-MUapZU4"
   },
   "source": [
    "W2A16"
   ]
  },
  {
   "cell_type": "code",
   "execution_count": null,
   "metadata": {
    "colab": {
     "base_uri": "https://localhost:8080/"
    },
    "executionInfo": {
     "elapsed": 106,
     "status": "ok",
     "timestamp": 1758011620784,
     "user": {
      "displayName": "25023202 Nguyễn Viết Nhất Duy",
      "userId": "00127381280906010194"
     },
     "user_tz": -420
    },
    "id": "Dyr736OTpcuh",
    "outputId": "c077abca-0510-4c2d-cccd-65bdfd80125a"
   },
   "outputs": [],
   "source": [
    "print(\"Spring\\nSummer\\nAutumn\\nWinter\")"
   ]
  },
  {
   "cell_type": "markdown",
   "metadata": {
    "id": "mKrnZYp4pdr1"
   },
   "source": [
    "W2A17"
   ]
  },
  {
   "cell_type": "code",
   "execution_count": null,
   "metadata": {
    "colab": {
     "base_uri": "https://localhost:8080/"
    },
    "executionInfo": {
     "elapsed": 16,
     "status": "ok",
     "timestamp": 1758011792515,
     "user": {
      "displayName": "25023202 Nguyễn Viết Nhất Duy",
      "userId": "00127381280906010194"
     },
     "user_tz": -420
    },
    "id": "zDTy-JGOpgkO",
    "outputId": "f6a281dd-f256-461e-902a-23d6787b6fa6"
   },
   "outputs": [],
   "source": [
    "for i in range(1,6,2):\n",
    "    print(\"*\"*i)"
   ]
  },
  {
   "cell_type": "markdown",
   "metadata": {
    "id": "zd9XW2mhphTF"
   },
   "source": [
    "W2A18"
   ]
  },
  {
   "cell_type": "code",
   "execution_count": null,
   "metadata": {
    "colab": {
     "base_uri": "https://localhost:8080/"
    },
    "executionInfo": {
     "elapsed": 16,
     "status": "ok",
     "timestamp": 1758011810207,
     "user": {
      "displayName": "25023202 Nguyễn Viết Nhất Duy",
      "userId": "00127381280906010194"
     },
     "user_tz": -420
    },
    "id": "t8LVc8g-pjqs",
    "outputId": "fa569321-5f05-455b-fb84-a0198eb33cd6"
   },
   "outputs": [],
   "source": [
    "print(\"### ##   ### ###\")\n",
    "print(\" #  # #   #   # \")\n",
    "print(\" #  # #   #   # \")\n",
    "print(\" #  ##    #   # \")"
   ]
  },
  {
   "cell_type": "markdown",
   "metadata": {
    "id": "jMMbndHApkVP"
   },
   "source": [
    "W2A19"
   ]
  },
  {
   "cell_type": "code",
   "execution_count": null,
   "metadata": {
    "colab": {
     "base_uri": "https://localhost:8080/"
    },
    "executionInfo": {
     "elapsed": 21,
     "status": "ok",
     "timestamp": 1758011824539,
     "user": {
      "displayName": "25023202 Nguyễn Viết Nhất Duy",
      "userId": "00127381280906010194"
     },
     "user_tz": -420
    },
    "id": "0eDx23IXpn8u",
    "outputId": "257e6483-53b5-4907-91ab-2ea9e89d468b"
   },
   "outputs": [],
   "source": [
    "print(\"Monday\\nTuesday\\nWednesday\\nThursday\\nFriday\\nSaturday\\nSunday\")"
   ]
  },
  {
   "cell_type": "markdown",
   "metadata": {
    "id": "eZudNhWoponC"
   },
   "source": [
    "W2A20"
   ]
  },
  {
   "cell_type": "code",
   "execution_count": null,
   "metadata": {
    "colab": {
     "base_uri": "https://localhost:8080/"
    },
    "executionInfo": {
     "elapsed": 15,
     "status": "ok",
     "timestamp": 1758011844307,
     "user": {
      "displayName": "25023202 Nguyễn Viết Nhất Duy",
      "userId": "00127381280906010194"
     },
     "user_tz": -420
    },
    "id": "zpkL83GCpqjh",
    "outputId": "8c6d489d-3ca9-410a-8b96-ca6a6fb147b5"
   },
   "outputs": [],
   "source": [
    "print(\"January\\nFebruary\\nMarch\\nApril\\nMay\\nJune\\nJuly\\nAugust\\nSeptember\\nOctober\\nNovember\\nDecember\")"
   ]
  },
  {
   "cell_type": "markdown",
   "metadata": {
    "id": "zzL90XZ-pq3-"
   },
   "source": [
    "W2A21"
   ]
  },
  {
   "cell_type": "code",
   "execution_count": null,
   "metadata": {
    "colab": {
     "base_uri": "https://localhost:8080/"
    },
    "executionInfo": {
     "elapsed": 15,
     "status": "ok",
     "timestamp": 1758011917455,
     "user": {
      "displayName": "25023202 Nguyễn Viết Nhất Duy",
      "userId": "00127381280906010194"
     },
     "user_tz": -420
    },
    "id": "W5uMQ9PMps7R",
    "outputId": "e846f7a7-4b9e-4a71-b6cd-a96e694fe40b"
   },
   "outputs": [],
   "source": [
    "for i in range(10):\n",
    "    print(\"Hello World\")"
   ]
  }
 ],
 "metadata": {
  "colab": {
   "authorship_tag": "ABX9TyMEmt3pA0tmViav2InRblZY",
   "provenance": []
  },
  "kernelspec": {
   "display_name": "Python 3",
   "name": "python3"
  },
  "language_info": {
   "codemirror_mode": {
    "name": "ipython",
    "version": 3
   },
   "file_extension": ".py",
   "mimetype": "text/x-python",
   "name": "python",
   "nbconvert_exporter": "python",
   "pygments_lexer": "ipython3",
   "version": "3.13.7"
  }
 },
 "nbformat": 4,
 "nbformat_minor": 0
}
